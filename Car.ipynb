{
 "cells": [
  {
   "cell_type": "code",
   "execution_count": 1,
   "metadata": {},
   "outputs": [],
   "source": [
    "import pandas as pd"
   ]
  },
  {
   "cell_type": "code",
   "execution_count": 2,
   "metadata": {},
   "outputs": [
    {
     "name": "stdout",
     "output_type": "stream",
     "text": [
      "    index        company   body-style  wheel-base  length engine-type  \\\n",
      "0       0    alfa-romero  convertible        88.6   168.8        dohc   \n",
      "1       1    alfa-romero  convertible        88.6   168.8        dohc   \n",
      "2       2    alfa-romero    hatchback        94.5   171.2        ohcv   \n",
      "3       3           audi        sedan        99.8   176.6         ohc   \n",
      "4       4           audi        sedan        99.4   176.6         ohc   \n",
      "5       5           audi        sedan        99.8   177.3         ohc   \n",
      "6       6           audi        wagon       105.8   192.7         ohc   \n",
      "7       9            bmw        sedan       101.2   176.8         ohc   \n",
      "8      10            bmw        sedan       101.2   176.8         ohc   \n",
      "9      11            bmw        sedan       101.2   176.8         ohc   \n",
      "10     13            bmw        sedan       103.5   189.0         ohc   \n",
      "11     14            bmw        sedan       103.5   193.8         ohc   \n",
      "12     15            bmw        sedan       110.0   197.0         ohc   \n",
      "13     16      chevrolet    hatchback        88.4   141.1           l   \n",
      "14     17      chevrolet    hatchback        94.5   155.9         ohc   \n",
      "15     18      chevrolet        sedan        94.5   158.8         ohc   \n",
      "16     19          dodge    hatchback        93.7   157.3         ohc   \n",
      "17     20          dodge    hatchback        93.7   157.3         ohc   \n",
      "18     27          honda        wagon        96.5   157.1         ohc   \n",
      "19     28          honda        sedan        96.5   175.4         ohc   \n",
      "20     29          honda        sedan        96.5   169.1         ohc   \n",
      "21     30          isuzu        sedan        94.3   170.7         ohc   \n",
      "22     31          isuzu        sedan        94.5   155.9         ohc   \n",
      "23     32          isuzu        sedan        94.5   155.9         ohc   \n",
      "24     33         jaguar        sedan       113.0   199.6        dohc   \n",
      "25     34         jaguar        sedan       113.0   199.6        dohc   \n",
      "26     35         jaguar        sedan       102.0   191.7        ohcv   \n",
      "27     36          mazda    hatchback        93.1   159.1         ohc   \n",
      "28     37          mazda    hatchback        93.1   159.1         ohc   \n",
      "29     38          mazda    hatchback        93.1   159.1         ohc   \n",
      "..    ...            ...          ...         ...     ...         ...   \n",
      "31     43          mazda        sedan       104.9   175.0         ohc   \n",
      "32     44  mercedes-benz        sedan       110.0   190.9         ohc   \n",
      "33     45  mercedes-benz        wagon       110.0   190.9         ohc   \n",
      "34     46  mercedes-benz        sedan       120.9   208.1        ohcv   \n",
      "35     47  mercedes-benz      hardtop       112.0   199.2        ohcv   \n",
      "36     49     mitsubishi    hatchback        93.7   157.3         ohc   \n",
      "37     50     mitsubishi    hatchback        93.7   157.3         ohc   \n",
      "38     51     mitsubishi        sedan        96.3   172.4         ohc   \n",
      "39     52     mitsubishi        sedan        96.3   172.4         ohc   \n",
      "40     53         nissan        sedan        94.5   165.3         ohc   \n",
      "41     54         nissan        sedan        94.5   165.3         ohc   \n",
      "42     55         nissan        sedan        94.5   165.3         ohc   \n",
      "43     56         nissan        wagon        94.5   170.2         ohc   \n",
      "44     57         nissan        sedan       100.4   184.6        ohcv   \n",
      "45     61        porsche      hardtop        89.5   168.9        ohcf   \n",
      "46     62        porsche  convertible        89.5   168.9        ohcf   \n",
      "47     63        porsche    hatchback        98.4   175.7       dohcv   \n",
      "48     66         toyota    hatchback        95.7   158.7         ohc   \n",
      "49     67         toyota    hatchback        95.7   158.7         ohc   \n",
      "50     68         toyota    hatchback        95.7   158.7         ohc   \n",
      "51     69         toyota        wagon        95.7   169.7         ohc   \n",
      "52     70         toyota        wagon        95.7   169.7         ohc   \n",
      "53     71         toyota        wagon        95.7   169.7         ohc   \n",
      "54     79         toyota        wagon       104.5   187.8        dohc   \n",
      "55     80     volkswagen        sedan        97.3   171.7         ohc   \n",
      "56     81     volkswagen        sedan        97.3   171.7         ohc   \n",
      "57     82     volkswagen        sedan        97.3   171.7         ohc   \n",
      "58     86     volkswagen        sedan        97.3   171.7         ohc   \n",
      "59     87          volvo        sedan       104.3   188.8         ohc   \n",
      "60     88          volvo        wagon       104.3   188.8         ohc   \n",
      "\n",
      "   num-of-cylinders  horsepower  average-mileage    price  \n",
      "0              four         111               21  13495.0  \n",
      "1              four         111               21  16500.0  \n",
      "2               six         154               19  16500.0  \n",
      "3              four         102               24  13950.0  \n",
      "4              five         115               18  17450.0  \n",
      "5              five         110               19  15250.0  \n",
      "6              five         110               19  18920.0  \n",
      "7              four         101               23  16430.0  \n",
      "8              four         101               23  16925.0  \n",
      "9               six         121               21  20970.0  \n",
      "10              six         182               16  30760.0  \n",
      "11              six         182               16  41315.0  \n",
      "12              six         182               15  36880.0  \n",
      "13            three          48               47   5151.0  \n",
      "14             four          70               38   6295.0  \n",
      "15             four          70               38   6575.0  \n",
      "16             four          68               31   6377.0  \n",
      "17             four          68               31   6229.0  \n",
      "18             four          76               30   7295.0  \n",
      "19             four         101               24  12945.0  \n",
      "20             four         100               25  10345.0  \n",
      "21             four          78               24   6785.0  \n",
      "22             four          70               38      NaN  \n",
      "23             four          70               38      NaN  \n",
      "24              six         176               15  32250.0  \n",
      "25              six         176               15  35550.0  \n",
      "26           twelve         262               13  36000.0  \n",
      "27             four          68               30   5195.0  \n",
      "28             four          68               31   6095.0  \n",
      "29             four          68               31   6795.0  \n",
      "..              ...         ...              ...      ...  \n",
      "31             four          72               31  18344.0  \n",
      "32             five         123               22  25552.0  \n",
      "33             five         123               22  28248.0  \n",
      "34            eight         184               14  40960.0  \n",
      "35            eight         184               14  45400.0  \n",
      "36             four          68               37   5389.0  \n",
      "37             four          68               31   6189.0  \n",
      "38             four          88               25   6989.0  \n",
      "39             four          88               25   8189.0  \n",
      "40             four          55               45   7099.0  \n",
      "41             four          69               31   6649.0  \n",
      "42             four          69               31   6849.0  \n",
      "43             four          69               31   7349.0  \n",
      "44              six         152               19  13499.0  \n",
      "45              six         207               17  34028.0  \n",
      "46              six         207               17  37028.0  \n",
      "47            eight         288               17      NaN  \n",
      "48             four          62               35   5348.0  \n",
      "49             four          62               31   6338.0  \n",
      "50             four          62               31   6488.0  \n",
      "51             four          62               31   6918.0  \n",
      "52             four          62               27   7898.0  \n",
      "53             four          62               27   8778.0  \n",
      "54              six         156               19  15750.0  \n",
      "55             four          52               37   7775.0  \n",
      "56             four          85               27   7975.0  \n",
      "57             four          52               37   7995.0  \n",
      "58             four         100               26   9995.0  \n",
      "59             four         114               23  12940.0  \n",
      "60             four         114               23  13415.0  \n",
      "\n",
      "[61 rows x 10 columns]\n"
     ]
    }
   ],
   "source": [
    "df = pd.read_csv('C:/Users/bhudharhita.te/Downloads/Automobile_data.csv')\n",
    "print(df)"
   ]
  },
  {
   "cell_type": "code",
   "execution_count": 3,
   "metadata": {},
   "outputs": [
    {
     "name": "stdout",
     "output_type": "stream",
     "text": [
      "   index      company   body-style  wheel-base  length engine-type  \\\n",
      "0      0  alfa-romero  convertible        88.6   168.8        dohc   \n",
      "1      1  alfa-romero  convertible        88.6   168.8        dohc   \n",
      "2      2  alfa-romero    hatchback        94.5   171.2        ohcv   \n",
      "3      3         audi        sedan        99.8   176.6         ohc   \n",
      "4      4         audi        sedan        99.4   176.6         ohc   \n",
      "\n",
      "  num-of-cylinders  horsepower  average-mileage    price  \n",
      "0             four         111               21  13495.0  \n",
      "1             four         111               21  16500.0  \n",
      "2              six         154               19  16500.0  \n",
      "3             four         102               24  13950.0  \n",
      "4             five         115               18  17450.0  \n",
      "    index     company body-style  wheel-base  length engine-type  \\\n",
      "56     81  volkswagen      sedan        97.3   171.7         ohc   \n",
      "57     82  volkswagen      sedan        97.3   171.7         ohc   \n",
      "58     86  volkswagen      sedan        97.3   171.7         ohc   \n",
      "59     87       volvo      sedan       104.3   188.8         ohc   \n",
      "60     88       volvo      wagon       104.3   188.8         ohc   \n",
      "\n",
      "   num-of-cylinders  horsepower  average-mileage    price  \n",
      "56             four          85               27   7975.0  \n",
      "57             four          52               37   7995.0  \n",
      "58             four         100               26   9995.0  \n",
      "59             four         114               23  12940.0  \n",
      "60             four         114               23  13415.0  \n",
      "    index      company   body-style  wheel-base  length engine-type  \\\n",
      "0       0  alfa-romero  convertible        88.6   168.8        dohc   \n",
      "1       1  alfa-romero  convertible        88.6   168.8        dohc   \n",
      "2       2  alfa-romero    hatchback        94.5   171.2        ohcv   \n",
      "3       3         audi        sedan        99.8   176.6         ohc   \n",
      "4       4         audi        sedan        99.4   176.6         ohc   \n",
      "56     81   volkswagen        sedan        97.3   171.7         ohc   \n",
      "57     82   volkswagen        sedan        97.3   171.7         ohc   \n",
      "58     86   volkswagen        sedan        97.3   171.7         ohc   \n",
      "59     87        volvo        sedan       104.3   188.8         ohc   \n",
      "60     88        volvo        wagon       104.3   188.8         ohc   \n",
      "\n",
      "   num-of-cylinders  horsepower  average-mileage    price  \n",
      "0              four         111               21  13495.0  \n",
      "1              four         111               21  16500.0  \n",
      "2               six         154               19  16500.0  \n",
      "3              four         102               24  13950.0  \n",
      "4              five         115               18  17450.0  \n",
      "56             four          85               27   7975.0  \n",
      "57             four          52               37   7995.0  \n",
      "58             four         100               26   9995.0  \n",
      "59             four         114               23  12940.0  \n",
      "60             four         114               23  13415.0  \n"
     ]
    }
   ],
   "source": [
    "# print first and last five rows\n",
    "a = df.head()\n",
    "b = df.tail()\n",
    "print(a)\n",
    "print(b)\n",
    "c = a.append(b)\n",
    "print(c)"
   ]
  },
  {
   "cell_type": "code",
   "execution_count": 4,
   "metadata": {},
   "outputs": [],
   "source": [
    "# Replace all column values which contain ‘?’ and n.a with NaN.\n",
    "# na_values={\n",
    "# 'price':[\"?\",\"n.a\"],\n",
    "# 'stroke':[\"?\",\"n.a\"],\n",
    "# 'horsepower':[\"?\",\"n.a\"],\n",
    "# 'peak-rpm':[\"?\",\"n.a\"],\n",
    "# 'average-mileage':[\"?\",\"n.a\"]}\n",
    "# print(df, na_values)"
   ]
  },
  {
   "cell_type": "code",
   "execution_count": 12,
   "metadata": {},
   "outputs": [
    {
     "name": "stdout",
     "output_type": "stream",
     "text": [
      "None\n"
     ]
    }
   ],
   "source": [
    "# Print most expensive car’s company name and price.\n",
    "dfs = df.sort_values(by = 'price', axis = 0, ascending = False, inplace = True, na_position = 'last')\n",
    "print(dfs)"
   ]
  },
  {
   "cell_type": "code",
   "execution_count": 13,
   "metadata": {},
   "outputs": [
    {
     "name": "stdout",
     "output_type": "stream",
     "text": [
      "          company    price\n",
      "35  mercedes-benz  45400.0\n"
     ]
    }
   ],
   "source": [
    "dfss = df [['company','price']][df.price==df['price'].max()]\n",
    "print(dfss)"
   ]
  },
  {
   "cell_type": "code",
   "execution_count": null,
   "metadata": {},
   "outputs": [],
   "source": []
  }
 ],
 "metadata": {
  "kernelspec": {
   "display_name": "Python 3",
   "language": "python",
   "name": "python3"
  },
  "language_info": {
   "codemirror_mode": {
    "name": "ipython",
    "version": 3
   },
   "file_extension": ".py",
   "mimetype": "text/x-python",
   "name": "python",
   "nbconvert_exporter": "python",
   "pygments_lexer": "ipython3",
   "version": "3.7.3"
  }
 },
 "nbformat": 4,
 "nbformat_minor": 2
}
